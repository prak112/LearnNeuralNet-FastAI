{
 "metadata": {
  "language_info": {
   "codemirror_mode": {
    "name": "ipython",
    "version": 3
   },
   "file_extension": ".py",
   "mimetype": "text/x-python",
   "name": "python",
   "nbconvert_exporter": "python",
   "pygments_lexer": "ipython3",
   "version": "3.8.5-final"
  },
  "orig_nbformat": 2,
  "kernelspec": {
   "name": "python3",
   "display_name": "Python 3.8.5 64-bit ('py3x-tf2x': conda)",
   "metadata": {
    "interpreter": {
     "hash": "c6e04f7a5ac130eeb20013286f1255cff64e2a49ad6e6267f06a989cb4e99f9c"
    }
   }
  }
 },
 "nbformat": 4,
 "nbformat_minor": 2,
 "cells": [
  {
   "source": [
    "# Matrix - Tensor products"
   ],
   "cell_type": "markdown",
   "metadata": {}
  },
  {
   "source": [
    "## Matrix - Vector products"
   ],
   "cell_type": "markdown",
   "metadata": {}
  },
  {
   "source": [
    "### Key notes from MonteCarlo simulation - https://www.youtube.com/watch?v=q6gJ2T0NSwM\n",
    "> * Choose domain of numbers within bounds of the problem group\n",
    "> * Compute deterministic output (boolean)\n",
    "> * Calculate probabilistic values"
   ],
   "cell_type": "markdown",
   "metadata": {}
  },
  {
   "cell_type": "code",
   "execution_count": 1,
   "metadata": {},
   "outputs": [],
   "source": [
    "import numpy as np"
   ]
  },
  {
   "cell_type": "code",
   "execution_count": 9,
   "metadata": {},
   "outputs": [
    {
     "output_type": "stream",
     "name": "stdout",
     "text": [
      "Predicted probability of patient conditions for next year:\n[[0.765 ]\n [0.1525]\n [0.0645]\n [0.018 ]]\n"
     ]
    }
   ],
   "source": [
    "current_states = np.array([[0.85, 0.1, 0.05, 0.0]]) # current year health states ---> VECTOR\n",
    "states_prob_yearly = np.array([[0.9, 0.07, 0.02, 0.01],\n",
    "                                [0.0, 0.93, 0.05, 0.02],\n",
    "                                [0.0, 0.0, 0.85, 0.15],\n",
    "                                [0.0, 0.0, 0.0, 1.0]]) # health-state in columns; yearly probability in rows --> MATRIX\n",
    "\n",
    "predicted_prob = (current_states @ states_prob_yearly).T # \"@\" --> numpy operator for matrix multiplication\n",
    "print(f\"Predicted probability of patient conditions for next year:\\n{predicted_prob}\")"
   ]
  },
  {
   "source": [
    "## Matrix-Matrix products"
   ],
   "cell_type": "markdown",
   "metadata": {}
  },
  {
   "cell_type": "code",
   "execution_count": null,
   "metadata": {},
   "outputs": [],
   "source": []
  },
  {
   "cell_type": "code",
   "execution_count": null,
   "metadata": {},
   "outputs": [],
   "source": []
  },
  {
   "cell_type": "code",
   "execution_count": null,
   "metadata": {},
   "outputs": [],
   "source": []
  }
 ]
}